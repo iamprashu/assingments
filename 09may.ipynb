{
 "cells": [
  {
   "cell_type": "code",
   "execution_count": 1,
   "id": "2db7effe-588e-487f-b8a7-09a5270118c8",
   "metadata": {},
   "outputs": [],
   "source": [
    "# Q1. Create one variable containing following type of data:"
   ]
  },
  {
   "cell_type": "code",
   "execution_count": 9,
   "id": "ba1cc21d-b756-4cb0-82d6-36d132df787a",
   "metadata": {},
   "outputs": [],
   "source": [
    "a = \"Prashant\" # string\n",
    "b = [1,5,8,\"Prashu\",4.5] # list\n",
    "c = 12.23 # float\n",
    "d = (12,)"
   ]
  },
  {
   "cell_type": "code",
   "execution_count": 13,
   "id": "710e7d82-bed6-481e-883d-f6c81df659cb",
   "metadata": {},
   "outputs": [
    {
     "name": "stdout",
     "output_type": "stream",
     "text": [
      "<class 'str'>\n",
      "<class 'list'>\n",
      "<class 'float'>\n",
      "<class 'tuple'>\n"
     ]
    }
   ],
   "source": [
    "print(type(a))\n",
    "print(type(b))\n",
    "print(type(c))\n",
    "print(type(d))"
   ]
  },
  {
   "cell_type": "code",
   "execution_count": 14,
   "id": "baceb24f-b0de-4783-9091-692fc1d5cf1e",
   "metadata": {},
   "outputs": [],
   "source": [
    "# Q2. Given are some following variables containing data:"
   ]
  },
  {
   "cell_type": "code",
   "execution_count": 19,
   "id": "73fa9c2b-1b98-41a2-8708-febbe72545cb",
   "metadata": {},
   "outputs": [],
   "source": [
    "var1 = ''\n",
    "var2 = '[ DS , ML , Python]'\n",
    "var3 = [ 'DS' , 'ML' , 'Python' ]\n",
    "var4 = 1."
   ]
  },
  {
   "cell_type": "code",
   "execution_count": 21,
   "id": "c2e280f5-f744-4013-8946-720360c782fb",
   "metadata": {},
   "outputs": [
    {
     "name": "stdout",
     "output_type": "stream",
     "text": [
      "<class 'str'>\n",
      "<class 'str'>\n",
      "<class 'list'>\n",
      "<class 'float'>\n"
     ]
    }
   ],
   "source": [
    "print(type(var1))\n",
    "print(type(var2))\n",
    "print(type(var3))\n",
    "print(type(var4))"
   ]
  },
  {
   "cell_type": "code",
   "execution_count": 22,
   "id": "494fb1ce-5efa-4957-a604-bb4eba6cd0f7",
   "metadata": {},
   "outputs": [],
   "source": [
    "# Q3. Explain the use of the following operators using an example:"
   ]
  },
  {
   "cell_type": "code",
   "execution_count": 25,
   "id": "c7715429-e2c2-4394-a20f-4411114ffa49",
   "metadata": {},
   "outputs": [
    {
     "name": "stdout",
     "output_type": "stream",
     "text": [
      "0.5\n"
     ]
    }
   ],
   "source": [
    "# for /\n",
    "a = 5\n",
    "b = 10\n",
    "\n",
    "print(a / b) # here operator / is for division"
   ]
  },
  {
   "cell_type": "code",
   "execution_count": 28,
   "id": "97300703-7a60-4f72-84c8-96a237bb1a63",
   "metadata": {},
   "outputs": [
    {
     "name": "stdout",
     "output_type": "stream",
     "text": [
      "1\n"
     ]
    }
   ],
   "source": [
    "#for %\n",
    "a = 5%4\n",
    "print(a) # this will give the reminder of the division"
   ]
  },
  {
   "cell_type": "code",
   "execution_count": 33,
   "id": "809f1839-907b-47a4-b2ee-d01d3c618784",
   "metadata": {},
   "outputs": [
    {
     "data": {
      "text/plain": [
       "1"
      ]
     },
     "execution_count": 33,
     "metadata": {},
     "output_type": "execute_result"
    }
   ],
   "source": [
    "# for //\n",
    "10//9\n",
    "# this opretor removes the decimal value and give the value that is closser to decimal in division"
   ]
  },
  {
   "cell_type": "code",
   "execution_count": 35,
   "id": "d9ab1c5e-f6fa-42c4-af71-34da4e0ee0ce",
   "metadata": {},
   "outputs": [
    {
     "data": {
      "text/plain": [
       "32"
      ]
     },
     "execution_count": 35,
     "metadata": {},
     "output_type": "execute_result"
    }
   ],
   "source": [
    "#for **\n",
    "2**5\n",
    "# ** this operator used to get the power answer "
   ]
  },
  {
   "cell_type": "code",
   "execution_count": 2,
   "id": "76cb0f00-b534-495b-bdbe-14a9d6832a95",
   "metadata": {},
   "outputs": [],
   "source": [
    "# Q4. Create a list of length 10 of your choice containing multiple types of data. Using for loop print the \n",
    "# element and its data type"
   ]
  },
  {
   "cell_type": "code",
   "execution_count": 5,
   "id": "64ad39bf-96ed-4a87-9452-d82874244e67",
   "metadata": {},
   "outputs": [],
   "source": [
    "a = [\"Prashu\",4.5,5,8,6,5,9.5,20,10,True]"
   ]
  },
  {
   "cell_type": "code",
   "execution_count": 13,
   "id": "5cd8c478-3b4b-42e1-b47b-6211b6639d58",
   "metadata": {},
   "outputs": [
    {
     "name": "stdout",
     "output_type": "stream",
     "text": [
      "Prashu \n",
      " Data Type for Prashu is : <class 'str'>\n",
      "4.5 \n",
      " Data Type for 4.5 is : <class 'float'>\n",
      "5 \n",
      " Data Type for 5 is : <class 'int'>\n",
      "8 \n",
      " Data Type for 8 is : <class 'int'>\n",
      "6 \n",
      " Data Type for 6 is : <class 'int'>\n",
      "5 \n",
      " Data Type for 5 is : <class 'int'>\n",
      "9.5 \n",
      " Data Type for 9.5 is : <class 'float'>\n",
      "20 \n",
      " Data Type for 20 is : <class 'int'>\n",
      "10 \n",
      " Data Type for 10 is : <class 'int'>\n",
      "True \n",
      " Data Type for True is : <class 'bool'>\n"
     ]
    }
   ],
   "source": [
    "for p in a:\n",
    "    print(p,\"\\n\",\"Data Type for\",p,\"is :\",type(p))"
   ]
  },
  {
   "cell_type": "code",
   "execution_count": 15,
   "id": "75589a7c-20d7-4a94-923a-100db850a06c",
   "metadata": {},
   "outputs": [],
   "source": [
    "# Using a while loop, verify if the number A is purely divisible by number B and if so then how many \n",
    "# times it can be divisible."
   ]
  },
  {
   "cell_type": "code",
   "execution_count": 7,
   "id": "688dbc2e-39a5-4041-b7a9-e9141911fd77",
   "metadata": {},
   "outputs": [
    {
     "name": "stdout",
     "output_type": "stream",
     "text": [
      "2\n"
     ]
    }
   ],
   "source": [
    "A = 50  # The number to be divided\n",
    "B = 5  # The number to divide by\n",
    "\n",
    "count = 0  # Variable to keep track of the number of divisions\n",
    "\n",
    "while A%B==0:\n",
    "    A = A / B\n",
    "    count += 1\n",
    "print(count)\n"
   ]
  },
  {
   "cell_type": "code",
   "execution_count": 8,
   "id": "dbb02c94-111b-4839-a3f4-65ee51633d6a",
   "metadata": {},
   "outputs": [],
   "source": [
    "# Q6.  Create a list containing 25 int type data. Using for loop and if-else condition print if the element is \n",
    "# divisible by 3 or not."
   ]
  },
  {
   "cell_type": "code",
   "execution_count": 33,
   "id": "a4f787b1-fa44-4e2a-89fc-06c5b6df76f9",
   "metadata": {},
   "outputs": [
    {
     "name": "stdout",
     "output_type": "stream",
     "text": [
      "1 It is not divisible\n",
      "2 It is not divisible\n",
      "3 Yes It is Divisible\n",
      "4 It is not divisible\n",
      "5 It is not divisible\n",
      "6 Yes It is Divisible\n",
      "7 It is not divisible\n",
      "8 It is not divisible\n",
      "9 Yes It is Divisible\n",
      "10 It is not divisible\n",
      "11 It is not divisible\n",
      "12 Yes It is Divisible\n",
      "13 It is not divisible\n",
      "14 It is not divisible\n",
      "15 Yes It is Divisible\n",
      "16 It is not divisible\n",
      "17 It is not divisible\n",
      "18 Yes It is Divisible\n",
      "19 It is not divisible\n",
      "20 It is not divisible\n",
      "21 Yes It is Divisible\n",
      "22 It is not divisible\n",
      "23 It is not divisible\n",
      "24 Yes It is Divisible\n",
      "25 It is not divisible\n"
     ]
    }
   ],
   "source": [
    "a = 0\n",
    "b = 25\n",
    "for i in range(a,b):\n",
    "    #print(i)\n",
    "    i=i+1\n",
    "    if i%3== 0 :\n",
    "        print(i,\"Yes It is Divisible\")\n",
    "    elif i%3 != 0:\n",
    "        print(i,\"It is not divisible\")\n",
    "    \n"
   ]
  },
  {
   "cell_type": "code",
   "execution_count": 30,
   "id": "73ec33f0-cb24-450a-b51a-e097d6c37275",
   "metadata": {},
   "outputs": [],
   "source": [
    "# Q7. What do you understand about mutable and immutable data types? Give examples for both showing \n",
    "# this property"
   ]
  },
  {
   "cell_type": "code",
   "execution_count": 2,
   "id": "082f6295-8e21-4d3d-9a43-22c9201a9151",
   "metadata": {},
   "outputs": [
    {
     "name": "stdout",
     "output_type": "stream",
     "text": [
      "<class 'int'>\n",
      "<class 'int'>\n",
      "<class 'int'>\n",
      "<class 'int'>\n",
      "<class 'float'>\n",
      "<class 'str'>\n",
      "<class 'bool'>\n"
     ]
    }
   ],
   "source": [
    "data = [1,2,5,4,4.5,\"PRASHU\",False]\n",
    "\n",
    "for i in data :\n",
    "    print(type(i))"
   ]
  },
  {
   "cell_type": "code",
   "execution_count": 3,
   "id": "c2b98d9c-cc8b-4bf7-b601-ce5eaca102fc",
   "metadata": {},
   "outputs": [
    {
     "data": {
      "text/plain": [
       "[1, 2, 45, 4, 4.5, 'PRASHU', False]"
      ]
     },
     "execution_count": 3,
     "metadata": {},
     "output_type": "execute_result"
    }
   ],
   "source": [
    "# above is my veriable data and its type in a list\n",
    "# 1.Mutable Data Types\n",
    "# lets change the value 5 into 45\n",
    "\n",
    "data[2] = 45 #here 2 is the indexing of the 5 in the list \"data\" \n",
    "# i used > data.index(\"5\")\n",
    "list(data)"
   ]
  },
  {
   "cell_type": "code",
   "execution_count": 4,
   "id": "e792b2b8-412d-44db-86f9-5416a9bc46d8",
   "metadata": {},
   "outputs": [
    {
     "data": {
      "text/plain": [
       "5"
      ]
     },
     "execution_count": 4,
     "metadata": {},
     "output_type": "execute_result"
    }
   ],
   "source": [
    "data.index(\"PRASHU\")"
   ]
  },
  {
   "cell_type": "code",
   "execution_count": 5,
   "id": "633ea0bd-200e-457e-a271-02988d8f562f",
   "metadata": {},
   "outputs": [],
   "source": [
    "data[5] = \"AYUSH\""
   ]
  },
  {
   "cell_type": "code",
   "execution_count": 6,
   "id": "74bc34b9-7c22-44bf-afbe-cf6c99c1edb7",
   "metadata": {},
   "outputs": [
    {
     "data": {
      "text/plain": [
       "[1, 2, 45, 4, 4.5, 'AYUSH', False]"
      ]
     },
     "execution_count": 6,
     "metadata": {},
     "output_type": "execute_result"
    }
   ],
   "source": [
    "list(data)"
   ]
  },
  {
   "cell_type": "code",
   "execution_count": 9,
   "id": "30140cee-b87a-49f1-a61f-b682cf0a9bbc",
   "metadata": {},
   "outputs": [
    {
     "data": {
      "text/plain": [
       "4"
      ]
     },
     "execution_count": 9,
     "metadata": {},
     "output_type": "execute_result"
    }
   ],
   "source": [
    "data.index(4.5) #to know the index of 4.5"
   ]
  },
  {
   "cell_type": "code",
   "execution_count": 10,
   "id": "79adf10f-fcba-486e-9f8a-33cb0e79b07c",
   "metadata": {},
   "outputs": [],
   "source": [
    "data[4]= \"Abhijeet\" # to change thew value 4.5 into Abhijeet "
   ]
  },
  {
   "cell_type": "code",
   "execution_count": 11,
   "id": "d89227d1-bfff-4496-b095-995ad63ea02e",
   "metadata": {},
   "outputs": [
    {
     "name": "stdout",
     "output_type": "stream",
     "text": [
      "[1, 2, 45, 4, 'Abhijeet', 'AYUSH', False]\n"
     ]
    }
   ],
   "source": [
    "print(data)"
   ]
  },
  {
   "cell_type": "code",
   "execution_count": null,
   "id": "7c1b56d2-c3ab-49b2-a1f3-5da5d0d75ce5",
   "metadata": {},
   "outputs": [],
   "source": [
    "# So data like list, dictonary, sets can be assinged are called mutable  but data like int, string can not be assigned are called immutable"
   ]
  }
 ],
 "metadata": {
  "kernelspec": {
   "display_name": "Python 3 (ipykernel)",
   "language": "python",
   "name": "python3"
  },
  "language_info": {
   "codemirror_mode": {
    "name": "ipython",
    "version": 3
   },
   "file_extension": ".py",
   "mimetype": "text/x-python",
   "name": "python",
   "nbconvert_exporter": "python",
   "pygments_lexer": "ipython3",
   "version": "3.10.8"
  }
 },
 "nbformat": 4,
 "nbformat_minor": 5
}
