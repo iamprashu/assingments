{
 "cells": [
  {
   "cell_type": "code",
   "execution_count": 1,
   "metadata": {},
   "outputs": [],
   "source": [
    "# Q1. How do you comment code in Python? What are the different types of comments?"
   ]
  },
  {
   "cell_type": "code",
   "execution_count": 2,
   "metadata": {},
   "outputs": [
    {
     "name": "stdout",
     "output_type": "stream",
     "text": [
      "Hello, World!\n"
     ]
    }
   ],
   "source": [
    "# In Python, you can add comments to your code to make it more readable and to provide explanations or notes for yourself or other programmers who might be reading your code. Python supports two types of comments:\n",
    "\n",
    "# Single-line comments: To add a comment that spans a single line, you can use the hash symbol (#) followed by the comment text. \n",
    "# Anything after the hash symbol on the same line is considered a comment and will be ignored by the Python interpreter.\n",
    "# For example:\n",
    "\n",
    "# This is a single-line comment\n",
    "print(\"Hello, World!\")  # This is another comment\n",
    "\n",
    "# Multi-line comments: To add comments that span multiple lines, you can enclose the comment text within triple quotes, \n",
    "# either single quotes (''') or double quotes (\"\"\"). This is often used for longer comments or documentation strings (docstrings). \n",
    "# For example:\n",
    "\n",
    "\"\"\"\n",
    "This is a multi-line comment or a docstring.\n",
    "It can span multiple lines.\n",
    "\"\"\"\n",
    "\n",
    "'''\n",
    "This is also a multi-line comment or a docstring.\n",
    "'''\n",
    "\n",
    "# Here is an example of a function with a docstring\n",
    "def add_numbers(a, b):\n",
    "    \"\"\"\n",
    "    This function takes two numbers as input and returns their sum.\n",
    "    \"\"\"\n",
    "    return a + b\n",
    "\n"
   ]
  },
  {
   "cell_type": "code",
   "execution_count": 3,
   "metadata": {},
   "outputs": [],
   "source": [
    "# Q2. What are variables in Python? How do you declare and assign values to variables?"
   ]
  },
  {
   "cell_type": "code",
   "execution_count": 4,
   "metadata": {},
   "outputs": [],
   "source": [
    "\n",
    "# In Python, variables are used to store and refer to data values. \n",
    "# They act as placeholders for storing various types of information \n",
    "# such as numbers, strings, lists, or objects. Variables can be declared and assigned values using a simple syntax.\n",
    "\n",
    "# To declare a variable in Python, you can choose any valid name and use the assignment operator (=) to assign a value to it. \n",
    "# Here's an example of declaring a variable named x and assigning it the value of 5:\n",
    "\n",
    "x = 5\n",
    "\n",
    "# In this case, x is the variable name, and 5 is the assigned value. You can also assign values of different types to variables. \n",
    "#  instance:\n",
    "\n",
    "name = \"John\"  # Assigning a string value\n",
    "age = 25  # Assigning an integer value\n",
    "is_student = True  # Assigning a boolean value\n",
    "# Python is dynamically typed, which means you don't need to explicitly specify the type of a variable during declaration. \n",
    "# The type of a variable is automatically inferred based on the assigned value.\n",
    "\n",
    "# Variables can be reassigned with new values by using the assignment operator again. Here's an example:\n",
    "\n",
    "x = 5  # Initial assignment\n",
    "x = 10  # Reassignment\n",
    "# After reassigning, the variable x will hold the value of 10 instead of 5.\n",
    "\n",
    "# It's worth noting that Python is a case-sensitive language, so x and X would be treated as two different variables.\n",
    "\n",
    "# Additionally, variables can be used in expressions and operations,\n",
    "# making it convenient to perform calculations or manipulate data using their assigned values.\n"
   ]
  },
  {
   "cell_type": "code",
   "execution_count": 5,
   "metadata": {},
   "outputs": [],
   "source": [
    "# Q3. How do you convert one data type to another in Python?"
   ]
  },
  {
   "cell_type": "code",
   "execution_count": 6,
   "metadata": {},
   "outputs": [
    {
     "name": "stdout",
     "output_type": "stream",
     "text": [
      "5.0\n",
      "2\n",
      "123\n"
     ]
    }
   ],
   "source": [
    "x = 5\n",
    "y = 2.5\n",
    "\n",
    "x_float = float(x)  # Convert integer to float\n",
    "y_int = int(y)  # Convert float to integer\n",
    "\n",
    "print(x_float)  # Output: 5.0\n",
    "print(y_int)  # Output: 2\n",
    "\n",
    "text = \"123\"\n",
    "num = int(text)  # Convert string to integer\n",
    "\n",
    "print(num)  # Output: 123"
   ]
  },
  {
   "cell_type": "code",
   "execution_count": 7,
   "metadata": {},
   "outputs": [],
   "source": [
    "# Q4. How do you write and execute a Python script from the command line?\n"
   ]
  },
  {
   "cell_type": "code",
   "execution_count": 10,
   "metadata": {},
   "outputs": [
    {
     "name": "stdout",
     "output_type": "stream",
     "text": [
      "Hello, World!\n"
     ]
    }
   ],
   "source": [
    "# Open a text editor and create a new file. This file will contain your Python script. \n",
    "# You can use any text editor of your choice, such as Notepad, Sublime Text, or Visual Studio Code.\n",
    "\n",
    "# Write your Python code in the text editor. For example, let's say you want to create a simple script that prints \"Hello, World!\" to the console:\n",
    "\n",
    "\n",
    "# hello_world.py\n",
    "print(\"Hello, World!\")\n",
    "# Save the file with a .py extension. In this example, save the file as hello_world.py. The .py extension indicates that it's a Python script.\n",
    "\n",
    "# Open a command prompt or terminal window.\n",
    "\n",
    "# Navigate to the directory where you saved your Python script using the cd command. For example, if your script is located in the Documents folder, use the following command to navigate to that folder:\n",
    "\n",
    "# this is bash\n",
    "#####  cd Documents\n",
    "# Once you're in the correct directory, you can execute the Python script by running the python command followed by the name of your script. \n",
    "# In our case, run the following command:\n",
    "\n",
    "# python hello_world.py\n",
    "# The Python interpreter will execute the script, and you should see the output \"Hello, World!\" printed to the console.\n",
    "\n",
    "# That's it! You have successfully written and executed a Python script from the command line. \n",
    "# You can modify and expand your script as needed and run it using the same procedure."
   ]
  },
  {
   "cell_type": "code",
   "execution_count": 11,
   "metadata": {},
   "outputs": [],
   "source": [
    "# Q5. Given a list my_list = [1, 2, 3, 4, 5], write the code to slice the list and obtain the sub-list [2, 3]"
   ]
  },
  {
   "cell_type": "code",
   "execution_count": 21,
   "metadata": {},
   "outputs": [
    {
     "data": {
      "text/plain": [
       "[2, 3]"
      ]
     },
     "execution_count": 21,
     "metadata": {},
     "output_type": "execute_result"
    }
   ],
   "source": [
    "my_list = [1, 2, 3, 4, 5]\n",
    "sub_list = []\n",
    "\n",
    "for i in my_list :\n",
    "    if i > 1 and i < 4 :\n",
    "        sub_list.append(i)\n",
    "sub_list\n",
    "\n"
   ]
  },
  {
   "cell_type": "code",
   "execution_count": 22,
   "metadata": {},
   "outputs": [],
   "source": [
    "# Q6. What is a complex number in mathematics, and how is it represented in Python?"
   ]
  },
  {
   "cell_type": "code",
   "execution_count": 26,
   "metadata": {},
   "outputs": [
    {
     "name": "stdout",
     "output_type": "stream",
     "text": [
      "<class 'complex'>\n"
     ]
    }
   ],
   "source": [
    "# In mathematics, a complex number is a number that comprises a real part and \n",
    "# an imaginary part. It is expressed in the form a + bi, where a represents the real part and b represents the imaginary part. \n",
    "# The imaginary part is multiplied by the imaginary unit i, which is defined as the square root of -1.\n",
    "\n",
    "# In Python, complex numbers are a built-in data type that allows you to work with complex arithmetic. \n",
    "# They are represented by using the j or J suffix to denote the imaginary part. \n",
    "# Here are a few examples of complex numbers in Python:\n",
    "\n",
    "z1 = 2 + 3j\n",
    "z2 = -1.5 + 0.5j\n",
    "z3 = 4j\n",
    "print(type(z1))\n"
   ]
  },
  {
   "cell_type": "code",
   "execution_count": 27,
   "metadata": {},
   "outputs": [],
   "source": [
    "# Q7. What is the correct way to declare a variable named age and assign the value 25 to it?\n",
    "\n",
    "age = 25\n"
   ]
  },
  {
   "cell_type": "code",
   "execution_count": 28,
   "metadata": {},
   "outputs": [
    {
     "name": "stdout",
     "output_type": "stream",
     "text": [
      "25\n"
     ]
    }
   ],
   "source": [
    "print(age)"
   ]
  },
  {
   "cell_type": "code",
   "execution_count": 29,
   "metadata": {},
   "outputs": [],
   "source": [
    "# Q8. Declare a variable named price and assign the value 9.99 to it. What data type does this variable \n",
    "# belong to?"
   ]
  },
  {
   "cell_type": "code",
   "execution_count": 30,
   "metadata": {},
   "outputs": [
    {
     "name": "stdout",
     "output_type": "stream",
     "text": [
      "<class 'float'>\n"
     ]
    }
   ],
   "source": [
    "#variable \n",
    "price = 9.99\n",
    "\n",
    "print(type(price))# you can also use type() function directly"
   ]
  },
  {
   "cell_type": "code",
   "execution_count": 31,
   "metadata": {},
   "outputs": [],
   "source": [
    "# Q9. Create a variable named name and assign your full name to it as a string. How would you print the \n",
    "# value of this variable?"
   ]
  },
  {
   "cell_type": "code",
   "execution_count": 32,
   "metadata": {},
   "outputs": [
    {
     "name": "stdout",
     "output_type": "stream",
     "text": [
      "Prashant Joshi\n"
     ]
    }
   ],
   "source": [
    "name = \"Prashant Joshi\"\n",
    "\n",
    "print(name)"
   ]
  },
  {
   "cell_type": "code",
   "execution_count": 38,
   "metadata": {},
   "outputs": [
    {
     "data": {
      "text/plain": [
       "'World'"
      ]
     },
     "execution_count": 38,
     "metadata": {},
     "output_type": "execute_result"
    }
   ],
   "source": [
    "# Q10. Given the string \"Hello, World!\", extract the substring \"World\".\n",
    "\n",
    "st = \"Hello, World!\"\n",
    "st[7:12]"
   ]
  },
  {
   "cell_type": "code",
   "execution_count": 39,
   "metadata": {},
   "outputs": [],
   "source": [
    "# Q11. Create a variable named \"is_student\" and assign it a boolean value indicating whether you are \n",
    "# currently a student or not\n",
    "\n",
    "is_student = True"
   ]
  },
  {
   "cell_type": "code",
   "execution_count": 40,
   "metadata": {},
   "outputs": [
    {
     "data": {
      "text/plain": [
       "True"
      ]
     },
     "execution_count": 40,
     "metadata": {},
     "output_type": "execute_result"
    }
   ],
   "source": [
    "is_student"
   ]
  },
  {
   "cell_type": "code",
   "execution_count": null,
   "metadata": {},
   "outputs": [],
   "source": []
  }
 ],
 "metadata": {
  "kernelspec": {
   "display_name": "Python 3",
   "language": "python",
   "name": "python3"
  },
  "language_info": {
   "codemirror_mode": {
    "name": "ipython",
    "version": 3
   },
   "file_extension": ".py",
   "mimetype": "text/x-python",
   "name": "python",
   "nbconvert_exporter": "python",
   "pygments_lexer": "ipython3",
   "version": "3.11.4"
  },
  "orig_nbformat": 4
 },
 "nbformat": 4,
 "nbformat_minor": 2
}
